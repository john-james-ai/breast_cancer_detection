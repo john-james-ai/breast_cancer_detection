{
 "cells": [
  {
   "attachments": {},
   "cell_type": "markdown",
   "metadata": {},
   "source": [
    "# DICOM Repo"
   ]
  },
  {
   "cell_type": "code",
   "execution_count": 6,
   "metadata": {},
   "outputs": [],
   "source": [
    "import os\n",
    "import pandas as pd\n",
    "\n",
    "import matplotlib as mpl\n",
    "mpl.rcParams['font.sans-serif'] = \"MyriadProRegular\"\n",
    "mpl.rcParams['font.family'] = \"sans-serif\"\n",
    "\n",
    "from bcd.container import BCDContainer\n",
    "from bcd.data.repo.series import DicomRepo\n",
    "\n",
    "container = BCDContainer()\n",
    "container.init_resources()\n",
    "#container.wire(modules=['bcd.data.analysis.case_meta'])"
   ]
  },
  {
   "cell_type": "code",
   "execution_count": 2,
   "metadata": {},
   "outputs": [],
   "source": [
    "BASEDIR = \"data/raw/CBIS-DDSM-All-doiJNLP-zzWs5zfZ/\"\n",
    "METADATA_FILEPATH = \"data/dev/CBIS-DDSM/metadata.csv\""
   ]
  },
  {
   "cell_type": "code",
   "execution_count": 3,
   "metadata": {},
   "outputs": [],
   "source": [
    "repo = DicomRepo(basedir=BASEDIR, metadata_filepath=METADATA_FILEPATH)"
   ]
  },
  {
   "cell_type": "code",
   "execution_count": 5,
   "metadata": {},
   "outputs": [
    {
     "name": "stdout",
     "output_type": "stream",
     "text": [
      "<class 'pandas.core.frame.DataFrame'>\n",
      "RangeIndex: 6775 entries, 0 to 6774\n",
      "Data columns (total 16 columns):\n",
      " #   Column                Non-Null Count  Dtype \n",
      "---  ------                --------------  ----- \n",
      " 0   series_uid            6775 non-null   object\n",
      " 1   collection            6775 non-null   object\n",
      " 2   data_description_uri  6775 non-null   object\n",
      " 3   subject_id            6775 non-null   object\n",
      " 4   study_uid             6775 non-null   object\n",
      " 5   study_date            6775 non-null   object\n",
      " 6   series_description    6775 non-null   object\n",
      " 7   modality              6775 non-null   object\n",
      " 8   sop_class_name        6775 non-null   object\n",
      " 9   sop_class_uid         6775 non-null   object\n",
      " 10  number_of_images      6775 non-null   int64 \n",
      " 11  file_size             6775 non-null   object\n",
      " 12  file_location         6775 non-null   object\n",
      " 13  download_timestamp    6775 non-null   object\n",
      " 14  casetype              6775 non-null   object\n",
      " 15  fileset               6775 non-null   object\n",
      "dtypes: int64(1), object(15)\n",
      "memory usage: 847.0+ KB\n"
     ]
    },
    {
     "data": {
      "text/plain": [
       "2    3464\n",
       "1    3311\n",
       "Name: number_of_images, dtype: int64"
      ]
     },
     "execution_count": 5,
     "metadata": {},
     "output_type": "execute_result"
    }
   ],
   "source": [
    "r = repo.registry\n",
    "r.info()\n",
    "r['number_of_images'].value_counts()"
   ]
  },
  {
   "cell_type": "code",
   "execution_count": 7,
   "metadata": {},
   "outputs": [
    {
     "data": {
      "text/plain": [
       "['data', 'lab']"
      ]
     },
     "execution_count": 7,
     "metadata": {},
     "output_type": "execute_result"
    }
   ],
   "source": []
  }
 ],
 "metadata": {
  "kernelspec": {
   "display_name": "bcd",
   "language": "python",
   "name": "python3"
  },
  "language_info": {
   "codemirror_mode": {
    "name": "ipython",
    "version": 3
   },
   "file_extension": ".py",
   "mimetype": "text/x-python",
   "name": "python",
   "nbconvert_exporter": "python",
   "pygments_lexer": "ipython3",
   "version": "3.10.11"
  },
  "orig_nbformat": 4
 },
 "nbformat": 4,
 "nbformat_minor": 2
}
