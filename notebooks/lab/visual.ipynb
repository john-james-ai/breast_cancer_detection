{
 "cells": [
  {
   "attachments": {},
   "cell_type": "markdown",
   "metadata": {},
   "source": [
    "# Visual"
   ]
  },
  {
   "cell_type": "code",
   "execution_count": 1,
   "metadata": {},
   "outputs": [
    {
     "name": "stderr",
     "output_type": "stream",
     "text": [
      "findfont: Font family ['MyriadProRegular'] not found. Falling back to DejaVu Sans.\n"
     ]
    },
    {
     "name": "stdout",
     "output_type": "stream",
     "text": [
      "List of all fonts currently available in the matplotlib:\n",
      "/home/john/anaconda3/envs/bcd/lib/python3.10/site-packages/matplotlib/mpl-data/fonts/ttf/DejaVuSans.ttf\n",
      "/home/john/.cache/matplotlib\n"
     ]
    }
   ],
   "source": [
    "from matplotlib import font_manager\n",
    "import shutil\n",
    "import matplotlib as mpl\n",
    "shutil.rmtree(mpl.get_cachedir(), ignore_errors=True)\n",
    "print(\"List of all fonts currently available in the matplotlib:\")\n",
    "# print(*font_manager.findSystemFonts(fontpaths=None, fontext='otf'), sep=\"\\n\")\n",
    "print(font_manager.findfont(\"MyriadProRegular\"))\n",
    "print(mpl.get_cachedir()) \n"
   ]
  }
 ],
 "metadata": {
  "kernelspec": {
   "display_name": "bcd",
   "language": "python",
   "name": "python3"
  },
  "language_info": {
   "codemirror_mode": {
    "name": "ipython",
    "version": 3
   },
   "file_extension": ".py",
   "mimetype": "text/x-python",
   "name": "python",
   "nbconvert_exporter": "python",
   "pygments_lexer": "ipython3",
   "version": "3.10.11"
  },
  "orig_nbformat": 4
 },
 "nbformat": 4,
 "nbformat_minor": 2
}
