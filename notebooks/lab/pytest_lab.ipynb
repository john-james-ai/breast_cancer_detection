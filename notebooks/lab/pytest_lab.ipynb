{
 "cells": [
  {
   "attachments": {},
   "cell_type": "markdown",
   "metadata": {},
   "source": [
    "# PyTestLab"
   ]
  },
  {
   "cell_type": "code",
   "execution_count": 1,
   "metadata": {},
   "outputs": [],
   "source": [
    "import os\n",
    "import pandas as pd\n",
    "pd.set_option(\"max_colwidth\", 200)\n",
    "from pprint import pprint\n",
    "from bcd.data.study.image import DICOMPassport"
   ]
  },
  {
   "cell_type": "code",
   "execution_count": 2,
   "metadata": {},
   "outputs": [],
   "source": [
    "LOCATION = \"tests/data/\"\n",
    "CBIS = \"tests/data/CBIS-DDSM\"\n",
    "METADATA = \"tests/data/meta/metadata.csv\""
   ]
  },
  {
   "cell_type": "code",
   "execution_count": 3,
   "metadata": {},
   "outputs": [
    {
     "data": {
      "text/plain": [
       "['Mass-Test_P_00145_LEFT_CC_1',\n",
       " 'Calc-Test_P_00140_LEFT_MLO_1',\n",
       " 'Calc-Test_P_00140_RIGHT_CC',\n",
       " 'Calc-Test_P_00140_LEFT_CC',\n",
       " 'Calc-Test_P_00140_RIGHT_CC_1',\n",
       " 'Calc-Test_P_00140_LEFT_MLO',\n",
       " 'Calc-Test_P_00140_LEFT_MLO_2',\n",
       " 'Calc-Test_P_00140_RIGHT_MLO_2',\n",
       " 'Mass-Test_P_00145_LEFT_MLO',\n",
       " 'Calc-Test_P_00140_LEFT_CC_1',\n",
       " 'Mass-Test_P_00145_LEFT_MLO_1',\n",
       " 'Calc-Test_P_00140_RIGHT_CC_2',\n",
       " 'Mass-Test_P_00145_LEFT_CC',\n",
       " 'Calc-Test_P_00140_RIGHT_MLO_1',\n",
       " 'Calc-Test_P_00140_RIGHT_MLO',\n",
       " 'Calc-Test_P_00140_LEFT_CC_2']"
      ]
     },
     "execution_count": 3,
     "metadata": {},
     "output_type": "execute_result"
    },
    {
     "data": {
      "text/plain": [
       "16"
      ]
     },
     "execution_count": 3,
     "metadata": {},
     "output_type": "execute_result"
    }
   ],
   "source": [
    "dirs = os.listdir(CBIS)\n",
    "dirs\n",
    "len(dirs)"
   ]
  },
  {
   "cell_type": "code",
   "execution_count": 4,
   "metadata": {},
   "outputs": [],
   "source": [
    "meta = pd.read_csv(METADATA, index_col=None)\n",
    "meta = meta[(meta['file_location'].str.contains('Calc-Test_P_00140')) | (meta['file_location'].str.contains('Mass-Test_P_00145'))]\n",
    "registrations = []\n",
    "for _, row in meta.iterrows():\n",
    "    directory = os.path.join(LOCATION, row['file_location'].replace(\"./\",\"\"))\n",
    "    filenames = os.listdir(directory)\n",
    "    for filename in filenames:\n",
    "        row['filename'] = filename\n",
    "        row = dict(row)\n",
    "        registrations.append(row)\n"
   ]
  },
  {
   "cell_type": "code",
   "execution_count": 5,
   "metadata": {},
   "outputs": [
    {
     "name": "stdout",
     "output_type": "stream",
     "text": [
      "\n",
      "\n",
      "DICOMPassport\n",
      "\t                      series_uid | 1.3.6.1.4.1.9590.100.1.2.273736527812245924738896549683395645939\n",
      "\t                      collection | CBIS-DDSM\n",
      "\t            data_description_uri | https://doi.org/10.7937/K9/TCIA.2016.7O02S9CY\n",
      "\t                      subject_id | Mass-Test_P_00145_LEFT_MLO_1\n",
      "\t                       study_uid | 1.3.6.1.4.1.9590.100.1.2.246933169112193643518141861462334002159\n",
      "\t                      study_date | 10-04-2016\n",
      "\t              series_description | cropped images\n",
      "\t                        modality | MG\n",
      "\t                  sop_class_name | Secondary Capture Image Storage\n",
      "\t                   sop_class_uid | 1.2.840.10008.5.1.4.1.1.7\n",
      "\t                number_of_images | 1\n",
      "\t                       file_size | 342.13 KB\n",
      "\t                   file_location | ./CBIS-DDSM/Mass-Test_P_00145_LEFT_MLO_1/10-04-2016-DDSM-02159/1.000000-cropped images-45939\n",
      "\t                        filename | 1-1.dcm\n",
      "\t              download_timestamp | 2023-05-24T03:11:54.861\n",
      "\t                        casetype | mass\n",
      "\t                         fileset | test\n",
      "\t                             uid | 1.3.6.1.4.1.9590.100.1.2.273736527812245924738896549683395645939_1-1\n",
      "\n"
     ]
    }
   ],
   "source": [
    "pp = DICOMPassport.create(registrations[0])\n",
    "print(pp)\n"
   ]
  },
  {
   "cell_type": "code",
   "execution_count": 7,
   "metadata": {},
   "outputs": [
    {
     "name": "stdout",
     "output_type": "stream",
     "text": [
      "<bound method DICOMPassport.__repr__ of DICOMPassport(series_uid=1.3.6.1.4.1.9590.100.1.2.273736527812245924738896549683395645939, collection=CBIS-DDSM, data_description_uri=https://doi.org/10.7937/K9/TCIA.2016.7O02S9CY, subject_id=Mass-Test_P_00145_LEFT_MLO_1, study_uid=1.3.6.1.4.1.9590.100.1.2.246933169112193643518141861462334002159, study_date=10-04-2016, series_description=cropped images, modality=MG, sop_class_name=Secondary Capture Image Storage, sop_class_uid=1.2.840.10008.5.1.4.1.1.7, number_of_images=1, file_size=342.13 KB, file_location=./CBIS-DDSM/Mass-Test_P_00145_LEFT_MLO_1/10-04-2016-DDSM-02159/1.000000-cropped images-45939, filename=1-1.dcm, download_timestamp=2023-05-24T03:11:54.861, casetype=mass, fileset=test, uid=1.3.6.1.4.1.9590.100.1.2.273736527812245924738896549683395645939_1-1)>\n"
     ]
    }
   ],
   "source": [
    "print(pp.__repr__)"
   ]
  }
 ],
 "metadata": {
  "kernelspec": {
   "display_name": "bcd",
   "language": "python",
   "name": "python3"
  },
  "language_info": {
   "codemirror_mode": {
    "name": "ipython",
    "version": 3
   },
   "file_extension": ".py",
   "mimetype": "text/x-python",
   "name": "python",
   "nbconvert_exporter": "python",
   "pygments_lexer": "ipython3",
   "version": "3.10.11"
  },
  "orig_nbformat": 4
 },
 "nbformat": 4,
 "nbformat_minor": 2
}
