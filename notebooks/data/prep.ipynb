{
 "cells": [
  {
   "attachments": {},
   "cell_type": "markdown",
   "metadata": {},
   "source": [
    "# Data Prep\n",
    "## Metadata\n",
    "Ensure all metadata files have common column names."
   ]
  },
  {
   "cell_type": "code",
   "execution_count": 4,
   "metadata": {},
   "outputs": [],
   "source": [
    "import os\n",
    "from bcd.data.prep.metadata import ColumnTransformer\n",
    "from bcd.service.io.file import IOService"
   ]
  },
  {
   "cell_type": "code",
   "execution_count": 5,
   "metadata": {},
   "outputs": [],
   "source": [
    "INPUTFILES = [\"data/ext/calc_case_description_train_set.csv\",\n",
    "             \"data/ext/calc_case_description_test_set.csv\",\n",
    "             \"data/ext/mass_case_description_train_set.csv\",\n",
    "             \"data/ext/mass_case_description_test_set.csv\"]\n",
    "\n",
    "OUTPUTFILES  = [\"data/raw/calc_case_description_train_set.pkl\",\n",
    "             \"data/raw/calc_case_description_test_set.pkl\",\n",
    "             \"data/raw/mass_case_description_train_set.pkl\",\n",
    "             \"data/raw/mass_case_description_test_set.pkl\"]"
   ]
  },
  {
   "cell_type": "code",
   "execution_count": 6,
   "metadata": {},
   "outputs": [],
   "source": [
    "io = IOService()\n",
    "ct = ColumnTransformer()\n",
    "for i in range(len(INPUTFILES)):\n",
    "    df = io.read(INPUTFILES[i])\n",
    "    df = ct.transform(X=df)    \n",
    "    for col in df.columns:\n",
    "        assert \" \" not in col\n",
    "    outfilepath = OUTPUTFILES[i]\n",
    "    io.write(filepath=outfilepath, data=df)\n"
   ]
  }
 ],
 "metadata": {
  "kernelspec": {
   "display_name": "deepbcd",
   "language": "python",
   "name": "python3"
  },
  "language_info": {
   "codemirror_mode": {
    "name": "ipython",
    "version": 3
   },
   "file_extension": ".py",
   "mimetype": "text/x-python",
   "name": "python",
   "nbconvert_exporter": "python",
   "pygments_lexer": "ipython3",
   "version": "3.10.11"
  },
  "orig_nbformat": 4
 },
 "nbformat": 4,
 "nbformat_minor": 2
}
